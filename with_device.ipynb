{
 "cells": [
  {
   "cell_type": "code",
   "execution_count": 1,
   "id": "dea0846c",
   "metadata": {},
   "outputs": [],
   "source": [
    "import os\n",
    "import time\n",
    "import pandas as pd\n",
    "import numpy as np\n",
    "from random import sample\n",
    "import time\n",
    "\n",
    "import torch\n",
    "import torch.nn as nn\n",
    "import torch.nn.functional as F\n",
    "from torch.utils.data import Dataset, DataLoader\n",
    "\n",
    "from Bio import SeqIO\n",
    "from multiprocessing import Process\n",
    "\n",
    "import matplotlib.pyplot as plt"
   ]
  },
  {
   "cell_type": "markdown",
   "id": "46ef475b",
   "metadata": {},
   "source": [
    "# device"
   ]
  },
  {
   "cell_type": "code",
   "execution_count": 2,
   "id": "78a30995",
   "metadata": {},
   "outputs": [],
   "source": [
    "dev = 'cuda'\n",
    "dev2 = 'cuda'"
   ]
  },
  {
   "cell_type": "code",
   "execution_count": null,
   "id": "0bd6b3c7",
   "metadata": {},
   "outputs": [],
   "source": [
    "# Get the maximum GPU memory usage by tensors\n",
    "print(\"Max allocated GPU memory: \", torch.cuda.max_memory_allocated() / (1024 ** 2), \" MB\")"
   ]
  },
  {
   "cell_type": "markdown",
   "id": "51f1d3a0",
   "metadata": {},
   "source": [
    "# data prep with class"
   ]
  },
  {
   "cell_type": "code",
   "execution_count": 3,
   "id": "68068cc0",
   "metadata": {},
   "outputs": [
    {
     "name": "stdout",
     "output_type": "stream",
     "text": [
      "960\n",
      "120\n"
     ]
    }
   ],
   "source": [
    "clade_info = pd.read_csv('/data/docker_qiime2_share_G/jingjie/all_ec2/CNN/CNN_trans/clade_info_2.csv',\n",
    "                         index_col = 0,\n",
    "                         header = None)\n",
    "\n",
    "clade = {}\n",
    "\n",
    "for x in set(clade_info.iloc[:, 0]):\n",
    "    clade[x] = []\n",
    "\n",
    "for x in list(clade_info.index):\n",
    "    clade[clade_info.loc[x, 1]].append(x)\n",
    "    \n",
    "train_set = []\n",
    "test_set = []\n",
    "\n",
    "total_each = 180\n",
    "for_train = 160\n",
    "\n",
    "for x in clade.keys():\n",
    "    to = sample(clade[x], total_each)# 每个类取 个\n",
    "    train_set.extend(to[0: for_train])# 给训练集 个\n",
    "    test_set.extend(to[for_train: ])# 给测试集 个\n",
    "    \n",
    "print(len(train_set))\n",
    "print(len(test_set))"
   ]
  },
  {
   "cell_type": "code",
   "execution_count": 4,
   "id": "57ff97db",
   "metadata": {},
   "outputs": [],
   "source": [
    "softmax = {'A': [1,0,0,0,0,0], \n",
    "           'B1': [0,1,0,0,0,0], \n",
    "           'B2': [0,0,1,0,0,0],\n",
    "           'D': [0,0,0,1,0,0],\n",
    "           'E': [0,0,0,0,1,0],\n",
    "           'N9': [0,0,0,0,0,1],}"
   ]
  },
  {
   "cell_type": "code",
   "execution_count": 5,
   "id": "d3a347c4",
   "metadata": {},
   "outputs": [],
   "source": [
    "class genome_Dataset(Dataset):\n",
    "    def __init__(self,\n",
    "                 set_to_read,\n",
    "                 ours_dir = '/data/docker_qiime2_share_G/Hejunwei/core_genome_study/CNN/np/',\n",
    "                 GCA_dir = '/data/docker_qiime2_share_G/Hejunwei/core_genome_study/CNN/np/',\n",
    "                 clade_info = '/data/docker_qiime2_share_G/jingjie/all_ec2/CNN/CNN_trans/clade_info_2.csv',\n",
    "                 lab_converter = softmax,\n",
    "                 des = dev):\n",
    "        \n",
    "        self.clade_info = pd.read_csv(clade_info,\n",
    "                                      index_col = 0,\n",
    "                                      header = None)\n",
    "        \n",
    "        self.indx = list(self.clade_info.index)\n",
    "        \n",
    "        self.to_read_indx = [self.indx.index(x) for x in set_to_read]\n",
    "        \n",
    "        self.go_tab = self.clade_info.iloc[self.to_read_indx, :]\n",
    "        \n",
    "        self.des = des\n",
    "        \n",
    "        self.lab_converter = lab_converter\n",
    "        \n",
    "        self.GCA_dir = GCA_dir\n",
    "        self.ours_dir = ours_dir\n",
    "        \n",
    "    def __len__(self):\n",
    "        return len(self.go_tab.index)\n",
    "        \n",
    "    def __getitem__(self, idx):\n",
    "        ind_lst = list(self.go_tab.index)\n",
    "        \n",
    "        if 'GCA' in ind_lst[idx]:\n",
    "            path = self.GCA_dir\n",
    "        else:\n",
    "            path = self.ours_dir\n",
    "            \n",
    "        ft = torch.from_numpy(np.load(path \n",
    "                                      + ind_lst[idx] \n",
    "                                      + '.npy')\n",
    "                                      ).type(torch.FloatTensor).to(device = self.des)\n",
    "        \n",
    "        ft = ft.reshape(1, 4, 721826)\n",
    "        \n",
    "        lab = torch.FloatTensor(self.lab_converter[self.go_tab.iloc[idx, 0]\n",
    "                                                  ]\n",
    "                               ).to(device = self.des)\n",
    "        lab = lab.reshape(6)\n",
    "        \n",
    "        return ft, lab"
   ]
  },
  {
   "cell_type": "code",
   "execution_count": 6,
   "id": "0210237d",
   "metadata": {},
   "outputs": [],
   "source": [
    "training_data = genome_Dataset(set_to_read = train_set)\n",
    "testing_data = genome_Dataset(set_to_read = test_set)"
   ]
  },
  {
   "cell_type": "code",
   "execution_count": 7,
   "id": "1f19ad29",
   "metadata": {},
   "outputs": [],
   "source": [
    "# train_dataloader = DataLoader(training_data, batch_size = len(train_set), shuffle = False, num_workers = 0)\n",
    "# test_dataloader = DataLoader(testing_data, batch_size = len(test_set), shuffle = False, num_workers = 0)\n",
    "\n",
    "train_dataloader = DataLoader(training_data, batch_size = 60, shuffle = False, num_workers = 0, drop_last = False, pin_memory = False)\n",
    "test_dataloader = DataLoader(testing_data, batch_size = 60, shuffle = False, num_workers = 0, drop_last = False, pin_memory = False)"
   ]
  },
  {
   "cell_type": "markdown",
   "id": "1e5b84ef",
   "metadata": {},
   "source": [
    "# model "
   ]
  },
  {
   "cell_type": "code",
   "execution_count": 8,
   "id": "e9e90ae6",
   "metadata": {},
   "outputs": [],
   "source": [
    "# ```Python\n",
    "class the_model(nn.Module):\n",
    "\n",
    "    def __init__(self):\n",
    "        super(the_model, self).__init__()\n",
    "        \n",
    "#         self.dropout = nn.Dropout(p = 0.2)\n",
    "        \n",
    "        self.conv1 = nn.Conv2d(in_channels = 1,\n",
    "                               out_channels = 6,\n",
    "                               kernel_size = (4, 33),\n",
    "                               stride = 1\n",
    "                              ).to(torch.device(dev))\n",
    "        \n",
    "        self.mp1 = nn.MaxPool2d(kernel_size = (1, 31), \n",
    "                                stride = 5\n",
    "                               ).to(torch.device(dev)\n",
    "                                   )\n",
    "        \n",
    "        \n",
    "        self.conv2 = nn.Conv2d(in_channels = 6,\n",
    "                               out_channels = 1,\n",
    "                               kernel_size = (1, 6),\n",
    "#                                stride = 1\n",
    "                              ).to(torch.device(dev))\n",
    "        \n",
    "        self.mp2 = nn.MaxPool2d(kernel_size = (1, 10),\n",
    "                    stride = 2).to(torch.device(dev))\n",
    "        \n",
    "        \n",
    "        self.conv3 = nn.Conv2d(in_channels = 1,\n",
    "                               out_channels = 1,\n",
    "                               kernel_size = (1, 3),\n",
    "#                                stride = 1\n",
    "                              ).to(torch.device(dev)\n",
    "                                  )\n",
    "                                   \n",
    "        self.mp3 = nn.MaxPool2d(kernel_size = (1, 20),\n",
    "                                stride = 5).to(torch.device(dev)\n",
    "                                              )\n",
    "                                   \n",
    "        self.conv4 = nn.Conv2d(in_channels = 1,\n",
    "                               out_channels = 1,\n",
    "                               kernel_size = (1, 3),\n",
    "#                                stride = 1\n",
    "                              ).to(torch.device(dev)\n",
    "                                  )\n",
    "        self.mp4 = nn.MaxPool2d(kernel_size = (1, 30),\n",
    "                                stride = 10).to(torch.device(dev)\n",
    "                                               )\n",
    "        \n",
    "        self.fc1 = nn.Linear(1440, \n",
    "                             6\n",
    "                            ).to(torch.device(dev)\n",
    "                                )\n",
    "        \n",
    "#         self.fc2 = nn.Linear(in_features = 1000, \n",
    "#                              out_features = 6\n",
    "#                             ).to(torch.device(dev)\n",
    "#                                 )\n",
    "        \n",
    "    def forward(self, x):\n",
    "        \n",
    "        x = self.conv1(x)\n",
    "#         x = self.dropout(x)\n",
    "        x = self.mp1(x)\n",
    "        \n",
    "        x = self.conv2(x)\n",
    "#         x = self.dropout(x)\n",
    "        x = self.mp2(x)\n",
    "        \n",
    "        x = self.conv3(x)\n",
    "#         x = self.dropout(x)\n",
    "        x = self.mp3(x)\n",
    "                                   \n",
    "        x = self.conv4(x)\n",
    "#         x = self.dropout(x)\n",
    "        x = self.mp4(x)\n",
    "        \n",
    "        x = torch.flatten(x, 1)\n",
    "#         x = self.dropout(x)\n",
    "        \n",
    "        x = self.fc1(x)\n",
    "#         x = self.fc2(x)\n",
    "#         x = self.fc3(x)\n",
    "#         x = self.fc4(x)\n",
    "        \n",
    "#         x = self.bo(x)\n",
    "        \n",
    "        return x\n",
    "# ```"
   ]
  },
  {
   "cell_type": "markdown",
   "id": "c493cc80",
   "metadata": {},
   "source": [
    "# train"
   ]
  },
  {
   "cell_type": "code",
   "execution_count": 9,
   "id": "93791769",
   "metadata": {},
   "outputs": [],
   "source": [
    "net = the_model()"
   ]
  },
  {
   "cell_type": "code",
   "execution_count": 10,
   "id": "f67d09ae",
   "metadata": {},
   "outputs": [],
   "source": [
    "loss_function = nn.CrossEntropyLoss().to(torch.device(dev))\n",
    "# loss_function = nn.MSELoss().to(torch.device(dev))\n",
    "# loss_function = nn.BCELoss().to(torch.device(dev))\n",
    "optimizer = torch.optim.Adam(net.parameters(), \n",
    "                             lr = 1e-3,\n",
    "                             weight_decay = 0\n",
    "                            )"
   ]
  },
  {
   "cell_type": "code",
   "execution_count": 11,
   "id": "73f2ad5b",
   "metadata": {},
   "outputs": [],
   "source": [
    "m1 = nn.Sigmoid()\n",
    "m2 = nn.Softmax(dim = 1)"
   ]
  },
  {
   "cell_type": "code",
   "execution_count": 12,
   "id": "6745433f",
   "metadata": {
    "scrolled": false
   },
   "outputs": [
    {
     "name": "stdout",
     "output_type": "stream",
     "text": [
      "0\n",
      "Mon Nov 14 12:27:37 2022\n",
      "train loss: 4.179014075547457\n",
      "test loss: 1.8169073462486267\n",
      "predict right count in train: tensor(100., device='cuda:0')\n",
      "predict right count in test: tensor(20., device='cuda:0')\n"
     ]
    },
    {
     "data": {
      "image/png": "[encoded data removed]",
      "text/plain": [
       "<Figure size 432x288 with 1 Axes>"
      ]
     },
     "metadata": {
      "needs_background": "light"
     },
     "output_type": "display_data"
    },
    {
     "name": "stdout",
     "output_type": "stream",
     "text": [
      "1\n",
      "Mon Nov 14 12:29:17 2022\n",
      "train loss: 1.9863807708024979\n",
      "test loss: 2.3149646520614624\n",
      "predict right count in train: tensor(40., device='cuda:0')\n",
      "predict right count in test: tensor(20., device='cuda:0')\n"
     ]
    },
    {
     "data": {
      "image/png": "[encoded data removed]",
      "text/plain": [
       "<Figure size 432x288 with 1 Axes>"
      ]
     },
     "metadata": {
      "needs_background": "light"
     },
     "output_type": "display_data"
    },
    {
     "name": "stdout",
     "output_type": "stream",
     "text": [
      "2\n",
      "Mon Nov 14 12:30:53 2022\n",
      "train loss: 2.1389134600758553\n",
      "test loss: 1.9106868505477905\n",
      "predict right count in train: tensor(147., device='cuda:0')\n",
      "predict right count in test: tensor(20., device='cuda:0')\n"
     ]
    },
    {
     "data": {
      "image/png": "[encoded data removed]",
      "text/plain": [
       "<Figure size 432x288 with 1 Axes>"
      ]
     },
     "metadata": {
      "needs_background": "light"
     },
     "output_type": "display_data"
    },
    {
     "name": "stdout",
     "output_type": "stream",
     "text": [
      "3\n",
      "Mon Nov 14 12:32:29 2022\n"
     ]
    },
    {
     "ename": "KeyboardInterrupt",
     "evalue": "",
     "output_type": "error",
     "traceback": [
      "\u001b[0;31m---------------------------------------------------------------------------\u001b[0m",
      "\u001b[0;31mKeyboardInterrupt\u001b[0m                         Traceback (most recent call last)",
      "\u001b[0;32m/tmp/ipykernel_3754/3937242616.py\u001b[0m in \u001b[0;36m<module>\u001b[0;34m\u001b[0m\n\u001b[1;32m     17\u001b[0m             \u001b[0mcount\u001b[0m \u001b[0;34m=\u001b[0m \u001b[0;36m0\u001b[0m\u001b[0;34m\u001b[0m\u001b[0;34m\u001b[0m\u001b[0m\n\u001b[1;32m     18\u001b[0m \u001b[0;34m\u001b[0m\u001b[0m\n\u001b[0;32m---> 19\u001b[0;31m             \u001b[0;32mfor\u001b[0m \u001b[0mdata_test\u001b[0m \u001b[0;32min\u001b[0m \u001b[0mtest_dataloader\u001b[0m\u001b[0;34m:\u001b[0m\u001b[0;34m\u001b[0m\u001b[0;34m\u001b[0m\u001b[0m\n\u001b[0m\u001b[1;32m     20\u001b[0m                 \u001b[0mi_test\u001b[0m\u001b[0;34m,\u001b[0m \u001b[0ml_test\u001b[0m \u001b[0;34m=\u001b[0m \u001b[0mdata_test\u001b[0m\u001b[0;34m\u001b[0m\u001b[0;34m\u001b[0m\u001b[0m\n\u001b[1;32m     21\u001b[0m \u001b[0;34m\u001b[0m\u001b[0m\n",
      "\u001b[0;32m/opt/conda/lib/python3.7/site-packages/torch/utils/data/dataloader.py\u001b[0m in \u001b[0;36m__next__\u001b[0;34m(self)\u001b[0m\n\u001b[1;32m    679\u001b[0m                 \u001b[0;31m# TODO(https://github.com/pytorch/pytorch/issues/76750)\u001b[0m\u001b[0;34m\u001b[0m\u001b[0;34m\u001b[0m\u001b[0;34m\u001b[0m\u001b[0m\n\u001b[1;32m    680\u001b[0m                 \u001b[0mself\u001b[0m\u001b[0;34m.\u001b[0m\u001b[0m_reset\u001b[0m\u001b[0;34m(\u001b[0m\u001b[0;34m)\u001b[0m  \u001b[0;31m# type: ignore[call-arg]\u001b[0m\u001b[0;34m\u001b[0m\u001b[0;34m\u001b[0m\u001b[0m\n\u001b[0;32m--> 681\u001b[0;31m             \u001b[0mdata\u001b[0m \u001b[0;34m=\u001b[0m \u001b[0mself\u001b[0m\u001b[0;34m.\u001b[0m\u001b[0m_next_data\u001b[0m\u001b[0;34m(\u001b[0m\u001b[0;34m)\u001b[0m\u001b[0;34m\u001b[0m\u001b[0;34m\u001b[0m\u001b[0m\n\u001b[0m\u001b[1;32m    682\u001b[0m             \u001b[0mself\u001b[0m\u001b[0;34m.\u001b[0m\u001b[0m_num_yielded\u001b[0m \u001b[0;34m+=\u001b[0m \u001b[0;36m1\u001b[0m\u001b[0;34m\u001b[0m\u001b[0;34m\u001b[0m\u001b[0m\n\u001b[1;32m    683\u001b[0m             \u001b[0;32mif\u001b[0m \u001b[0mself\u001b[0m\u001b[0;34m.\u001b[0m\u001b[0m_dataset_kind\u001b[0m \u001b[0;34m==\u001b[0m \u001b[0m_DatasetKind\u001b[0m\u001b[0;34m.\u001b[0m\u001b[0mIterable\u001b[0m \u001b[0;32mand\u001b[0m\u001b[0;31m \u001b[0m\u001b[0;31m\\\u001b[0m\u001b[0;34m\u001b[0m\u001b[0;34m\u001b[0m\u001b[0m\n",
      "\u001b[0;32m/opt/conda/lib/python3.7/site-packages/torch/utils/data/dataloader.py\u001b[0m in \u001b[0;36m_next_data\u001b[0;34m(self)\u001b[0m\n\u001b[1;32m    719\u001b[0m     \u001b[0;32mdef\u001b[0m \u001b[0m_next_data\u001b[0m\u001b[0;34m(\u001b[0m\u001b[0mself\u001b[0m\u001b[0;34m)\u001b[0m\u001b[0;34m:\u001b[0m\u001b[0;34m\u001b[0m\u001b[0;34m\u001b[0m\u001b[0m\n\u001b[1;32m    720\u001b[0m         \u001b[0mindex\u001b[0m \u001b[0;34m=\u001b[0m \u001b[0mself\u001b[0m\u001b[0;34m.\u001b[0m\u001b[0m_next_index\u001b[0m\u001b[0;34m(\u001b[0m\u001b[0;34m)\u001b[0m  \u001b[0;31m# may raise StopIteration\u001b[0m\u001b[0;34m\u001b[0m\u001b[0;34m\u001b[0m\u001b[0m\n\u001b[0;32m--> 721\u001b[0;31m         \u001b[0mdata\u001b[0m \u001b[0;34m=\u001b[0m \u001b[0mself\u001b[0m\u001b[0;34m.\u001b[0m\u001b[0m_dataset_fetcher\u001b[0m\u001b[0;34m.\u001b[0m\u001b[0mfetch\u001b[0m\u001b[0;34m(\u001b[0m\u001b[0mindex\u001b[0m\u001b[0;34m)\u001b[0m  \u001b[0;31m# may raise StopIteration\u001b[0m\u001b[0;34m\u001b[0m\u001b[0;34m\u001b[0m\u001b[0m\n\u001b[0m\u001b[1;32m    722\u001b[0m         \u001b[0;32mif\u001b[0m \u001b[0mself\u001b[0m\u001b[0;34m.\u001b[0m\u001b[0m_pin_memory\u001b[0m\u001b[0;34m:\u001b[0m\u001b[0;34m\u001b[0m\u001b[0;34m\u001b[0m\u001b[0m\n\u001b[1;32m    723\u001b[0m             \u001b[0mdata\u001b[0m \u001b[0;34m=\u001b[0m \u001b[0m_utils\u001b[0m\u001b[0;34m.\u001b[0m\u001b[0mpin_memory\u001b[0m\u001b[0;34m.\u001b[0m\u001b[0mpin_memory\u001b[0m\u001b[0;34m(\u001b[0m\u001b[0mdata\u001b[0m\u001b[0;34m,\u001b[0m \u001b[0mself\u001b[0m\u001b[0;34m.\u001b[0m\u001b[0m_pin_memory_device\u001b[0m\u001b[0;34m)\u001b[0m\u001b[0;34m\u001b[0m\u001b[0;34m\u001b[0m\u001b[0m\n",
      "\u001b[0;32m/opt/conda/lib/python3.7/site-packages/torch/utils/data/_utils/fetch.py\u001b[0m in \u001b[0;36mfetch\u001b[0;34m(self, possibly_batched_index)\u001b[0m\n\u001b[1;32m     47\u001b[0m     \u001b[0;32mdef\u001b[0m \u001b[0mfetch\u001b[0m\u001b[0;34m(\u001b[0m\u001b[0mself\u001b[0m\u001b[0;34m,\u001b[0m \u001b[0mpossibly_batched_index\u001b[0m\u001b[0;34m)\u001b[0m\u001b[0;34m:\u001b[0m\u001b[0;34m\u001b[0m\u001b[0;34m\u001b[0m\u001b[0m\n\u001b[1;32m     48\u001b[0m         \u001b[0;32mif\u001b[0m \u001b[0mself\u001b[0m\u001b[0;34m.\u001b[0m\u001b[0mauto_collation\u001b[0m\u001b[0;34m:\u001b[0m\u001b[0;34m\u001b[0m\u001b[0;34m\u001b[0m\u001b[0m\n\u001b[0;32m---> 49\u001b[0;31m             \u001b[0mdata\u001b[0m \u001b[0;34m=\u001b[0m \u001b[0;34m[\u001b[0m\u001b[0mself\u001b[0m\u001b[0;34m.\u001b[0m\u001b[0mdataset\u001b[0m\u001b[0;34m[\u001b[0m\u001b[0midx\u001b[0m\u001b[0;34m]\u001b[0m \u001b[0;32mfor\u001b[0m \u001b[0midx\u001b[0m \u001b[0;32min\u001b[0m \u001b[0mpossibly_batched_index\u001b[0m\u001b[0;34m]\u001b[0m\u001b[0;34m\u001b[0m\u001b[0;34m\u001b[0m\u001b[0m\n\u001b[0m\u001b[1;32m     50\u001b[0m         \u001b[0;32melse\u001b[0m\u001b[0;34m:\u001b[0m\u001b[0;34m\u001b[0m\u001b[0;34m\u001b[0m\u001b[0m\n\u001b[1;32m     51\u001b[0m             \u001b[0mdata\u001b[0m \u001b[0;34m=\u001b[0m \u001b[0mself\u001b[0m\u001b[0;34m.\u001b[0m\u001b[0mdataset\u001b[0m\u001b[0;34m[\u001b[0m\u001b[0mpossibly_batched_index\u001b[0m\u001b[0;34m]\u001b[0m\u001b[0;34m\u001b[0m\u001b[0;34m\u001b[0m\u001b[0m\n",
      "\u001b[0;32m/opt/conda/lib/python3.7/site-packages/torch/utils/data/_utils/fetch.py\u001b[0m in \u001b[0;36m<listcomp>\u001b[0;34m(.0)\u001b[0m\n\u001b[1;32m     47\u001b[0m     \u001b[0;32mdef\u001b[0m \u001b[0mfetch\u001b[0m\u001b[0;34m(\u001b[0m\u001b[0mself\u001b[0m\u001b[0;34m,\u001b[0m \u001b[0mpossibly_batched_index\u001b[0m\u001b[0;34m)\u001b[0m\u001b[0;34m:\u001b[0m\u001b[0;34m\u001b[0m\u001b[0;34m\u001b[0m\u001b[0m\n\u001b[1;32m     48\u001b[0m         \u001b[0;32mif\u001b[0m \u001b[0mself\u001b[0m\u001b[0;34m.\u001b[0m\u001b[0mauto_collation\u001b[0m\u001b[0;34m:\u001b[0m\u001b[0;34m\u001b[0m\u001b[0;34m\u001b[0m\u001b[0m\n\u001b[0;32m---> 49\u001b[0;31m             \u001b[0mdata\u001b[0m \u001b[0;34m=\u001b[0m \u001b[0;34m[\u001b[0m\u001b[0mself\u001b[0m\u001b[0;34m.\u001b[0m\u001b[0mdataset\u001b[0m\u001b[0;34m[\u001b[0m\u001b[0midx\u001b[0m\u001b[0;34m]\u001b[0m \u001b[0;32mfor\u001b[0m \u001b[0midx\u001b[0m \u001b[0;32min\u001b[0m \u001b[0mpossibly_batched_index\u001b[0m\u001b[0;34m]\u001b[0m\u001b[0;34m\u001b[0m\u001b[0;34m\u001b[0m\u001b[0m\n\u001b[0m\u001b[1;32m     50\u001b[0m         \u001b[0;32melse\u001b[0m\u001b[0;34m:\u001b[0m\u001b[0;34m\u001b[0m\u001b[0;34m\u001b[0m\u001b[0m\n\u001b[1;32m     51\u001b[0m             \u001b[0mdata\u001b[0m \u001b[0;34m=\u001b[0m \u001b[0mself\u001b[0m\u001b[0;34m.\u001b[0m\u001b[0mdataset\u001b[0m\u001b[0;34m[\u001b[0m\u001b[0mpossibly_batched_index\u001b[0m\u001b[0;34m]\u001b[0m\u001b[0;34m\u001b[0m\u001b[0;34m\u001b[0m\u001b[0m\n",
      "\u001b[0;32m/tmp/ipykernel_3754/1797689645.py\u001b[0m in \u001b[0;36m__getitem__\u001b[0;34m(self, idx)\u001b[0m\n\u001b[1;32m     38\u001b[0m         ft = torch.from_numpy(np.load(path \n\u001b[1;32m     39\u001b[0m                                       \u001b[0;34m+\u001b[0m \u001b[0mind_lst\u001b[0m\u001b[0;34m[\u001b[0m\u001b[0midx\u001b[0m\u001b[0;34m]\u001b[0m\u001b[0;34m\u001b[0m\u001b[0;34m\u001b[0m\u001b[0m\n\u001b[0;32m---> 40\u001b[0;31m                                       + '.npy')\n\u001b[0m\u001b[1;32m     41\u001b[0m                                       ).type(torch.FloatTensor).to(device = self.des)\n\u001b[1;32m     42\u001b[0m \u001b[0;34m\u001b[0m\u001b[0m\n",
      "\u001b[0;32m/opt/conda/lib/python3.7/site-packages/numpy/lib/npyio.py\u001b[0m in \u001b[0;36mload\u001b[0;34m(file, mmap_mode, allow_pickle, fix_imports, encoding)\u001b[0m\n\u001b[1;32m    439\u001b[0m             \u001b[0;32melse\u001b[0m\u001b[0;34m:\u001b[0m\u001b[0;34m\u001b[0m\u001b[0;34m\u001b[0m\u001b[0m\n\u001b[1;32m    440\u001b[0m                 return format.read_array(fid, allow_pickle=allow_pickle,\n\u001b[0;32m--> 441\u001b[0;31m                                          pickle_kwargs=pickle_kwargs)\n\u001b[0m\u001b[1;32m    442\u001b[0m         \u001b[0;32melse\u001b[0m\u001b[0;34m:\u001b[0m\u001b[0;34m\u001b[0m\u001b[0;34m\u001b[0m\u001b[0m\n\u001b[1;32m    443\u001b[0m             \u001b[0;31m# Try a pickle\u001b[0m\u001b[0;34m\u001b[0m\u001b[0;34m\u001b[0m\u001b[0;34m\u001b[0m\u001b[0m\n",
      "\u001b[0;32m/opt/conda/lib/python3.7/site-packages/numpy/lib/format.py\u001b[0m in \u001b[0;36mread_array\u001b[0;34m(fp, allow_pickle, pickle_kwargs)\u001b[0m\n\u001b[1;32m    755\u001b[0m         \u001b[0;32mif\u001b[0m \u001b[0misfileobj\u001b[0m\u001b[0;34m(\u001b[0m\u001b[0mfp\u001b[0m\u001b[0;34m)\u001b[0m\u001b[0;34m:\u001b[0m\u001b[0;34m\u001b[0m\u001b[0;34m\u001b[0m\u001b[0m\n\u001b[1;32m    756\u001b[0m             \u001b[0;31m# We can use the fast fromfile() function.\u001b[0m\u001b[0;34m\u001b[0m\u001b[0;34m\u001b[0m\u001b[0;34m\u001b[0m\u001b[0m\n\u001b[0;32m--> 757\u001b[0;31m             \u001b[0marray\u001b[0m \u001b[0;34m=\u001b[0m \u001b[0mnumpy\u001b[0m\u001b[0;34m.\u001b[0m\u001b[0mfromfile\u001b[0m\u001b[0;34m(\u001b[0m\u001b[0mfp\u001b[0m\u001b[0;34m,\u001b[0m \u001b[0mdtype\u001b[0m\u001b[0;34m=\u001b[0m\u001b[0mdtype\u001b[0m\u001b[0;34m,\u001b[0m \u001b[0mcount\u001b[0m\u001b[0;34m=\u001b[0m\u001b[0mcount\u001b[0m\u001b[0;34m)\u001b[0m\u001b[0;34m\u001b[0m\u001b[0;34m\u001b[0m\u001b[0m\n\u001b[0m\u001b[1;32m    758\u001b[0m         \u001b[0;32melse\u001b[0m\u001b[0;34m:\u001b[0m\u001b[0;34m\u001b[0m\u001b[0;34m\u001b[0m\u001b[0m\n\u001b[1;32m    759\u001b[0m             \u001b[0;31m# This is not a real file. We have to read it the\u001b[0m\u001b[0;34m\u001b[0m\u001b[0;34m\u001b[0m\u001b[0;34m\u001b[0m\u001b[0m\n",
      "\u001b[0;31mKeyboardInterrupt\u001b[0m: "
     ]
    }
   ],
   "source": [
    "if __name__ == '__main__':\n",
    "\n",
    "    losses = []\n",
    "    losses_test = []\n",
    "    \n",
    "    for epoch in range(1000):\n",
    "\n",
    "        print(epoch)\n",
    "        print(time.asctime())\n",
    "        \n",
    "        net.eval()\n",
    "        with torch.no_grad():\n",
    "\n",
    "            record_of_test_loss = 0.0\n",
    "            test_right_pred_ = 0.0\n",
    "            \n",
    "            count = 0\n",
    "            \n",
    "            for data_test in test_dataloader:\n",
    "                i_test, l_test = data_test\n",
    "\n",
    "                pred_y_test = net(i_test)\n",
    "\n",
    "                loss_test = loss_function(pred_y_test, l_test)\n",
    "\n",
    "                record_of_test_loss = record_of_test_loss + loss_test.item()\n",
    "    \n",
    "                test_right_pred = (m2(m1(pred_y_test\n",
    "                                        )\n",
    "                                     ).argmax(1) == l_test.argmax(1)).sum()\n",
    "        \n",
    "                test_right_pred_ = test_right_pred_ + test_right_pred\n",
    "            \n",
    "                count += 1\n",
    "\n",
    "            losses_test.append(record_of_test_loss/count)\n",
    "        \n",
    "        net.train()\n",
    "        record_of_train_loss = 0.0\n",
    "        train_right_pred_ = 0.0\n",
    "        \n",
    "        count = 0\n",
    "        \n",
    "        for data in train_dataloader:\n",
    "            i, l = data\n",
    "\n",
    "            pred_y = net(i)\n",
    "\n",
    "            loss = loss_function(pred_y, l)\n",
    "            \n",
    "            record_of_train_loss = record_of_train_loss + loss.item()\n",
    "        \n",
    "            train_right_pred = (m2(m1(pred_y\n",
    "                                        )\n",
    "                                     ).argmax(1) == l.argmax(1)).sum()\n",
    "        \n",
    "            train_right_pred_ = train_right_pred_ + train_right_pred\n",
    "    \n",
    "            count += 1\n",
    "    \n",
    "            optimizer.zero_grad()\n",
    "            loss.backward()\n",
    "            optimizer.step()\n",
    "\n",
    "\n",
    "        losses.append(record_of_train_loss/count)\n",
    "        \n",
    "\n",
    "        \n",
    "        plt.plot(losses, 'r')\n",
    "        plt.plot(losses_test, 'b')\n",
    "        plt.ylabel('loss')\n",
    "        plt.xlabel('epoch')\n",
    "    #     plt.title('Train')\n",
    "    \n",
    "    \n",
    "        print('train loss: ' + str(losses[-1]))\n",
    "        print('test loss: ' + str(losses_test[-1]))\n",
    "        print('predict right count in train: ' + str(train_right_pred_))\n",
    "        print('predict right count in test: ' + str(test_right_pred_))\n",
    "        \n",
    "        plt.show()\n",
    "\n",
    "        torch.save(net.state_dict(), \n",
    "                   '/data/docker_qiime2_share_G/Hejunwei/core_genome_study/CNN/dataloader_models/' \n",
    "                   + str(epoch)\n",
    "                   +'_epoch_.pth')"
   ]
  },
  {
   "cell_type": "code",
   "execution_count": null,
   "id": "dce37794",
   "metadata": {},
   "outputs": [],
   "source": []
  }
 ],
 "metadata": {
  "kernelspec": {
   "display_name": "Python 3 (ipykernel)",
   "language": "python",
   "name": "python3"
  },
  "language_info": {
   "codemirror_mode": {
    "name": "ipython",
    "version": 3
   },
   "file_extension": ".py",
   "mimetype": "text/x-python",
   "name": "python",
   "nbconvert_exporter": "python",
   "pygments_lexer": "ipython3",
   "version": "3.7.13"
  },
  "toc": {
   "base_numbering": 1,
   "nav_menu": {},
   "number_sections": true,
   "sideBar": true,
   "skip_h1_title": false,
   "title_cell": "Table of Contents",
   "title_sidebar": "Contents",
   "toc_cell": false,
   "toc_position": {},
   "toc_section_display": true,
   "toc_window_display": false
  }
 },
 "nbformat": 4,
 "nbformat_minor": 5
}
