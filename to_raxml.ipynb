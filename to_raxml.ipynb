{
 "cells": [
  {
   "cell_type": "markdown",
   "id": "91e80d27",
   "metadata": {},
   "source": [
    "# kalign"
   ]
  },
  {
   "cell_type": "code",
   "execution_count": 2,
   "id": "9203878c",
   "metadata": {},
   "outputs": [
    {
     "name": "stdout",
     "output_type": "stream",
     "text": [
      "\r\n",
      "Kalign (3.3.2)\r\n",
      "\r\n",
      "Copyright (C) 2006,2019,2020,2021 Timo Lassmann\r\n",
      "\r\n",
      "This program comes with ABSOLUTELY NO WARRANTY; for details type:\r\n",
      "`kalign -showw'.\r\n",
      "This is free software, and you are welcome to redistribute it\r\n",
      "under certain conditions; consult the COPYING file for details.\r\n",
      "\r\n",
      "Please cite:\r\n",
      "  Lassmann, Timo.\r\n",
      "  \"Kalign 3: multiple sequence alignment of large data sets.\"\r\n",
      "  Bioinformatics (2019) \r\n",
      "  https://doi.org/10.1093/bioinformatics/btz795\r\n",
      "\r\n",
      "\r\n",
      "Usage: kalign  -i <seq file> -o <out aln> \r\n",
      "\r\n",
      "Options:\r\n",
      "\r\n",
      "   --format           : Output format. [Fasta]\r\n",
      "   --reformat         : Reformat existing alignment. [NA]\r\n",
      "   --gpo              : Gap open penalty. [5.5]\r\n",
      "   --gpe              : Gap extension penalty. [2.0]\r\n",
      "   --tgpe             : Terminal gap extension penalty. [1.0]\r\n",
      "   --version (-V/-v)  : Prints version. [NA]\r\n",
      "\r\n",
      "Examples:\r\n",
      "\r\n",
      "Passing sequences via stdin:\r\n",
      "\r\n",
      "   cat input.fa | kalign -f fasta > out.afa\r\n",
      "\r\n",
      "Combining multiple input files:\r\n",
      "\r\n",
      "   kalign seqsA.fa seqsB.fa seqsC.fa -f fasta > combined.afa\r\n",
      "\r\n"
     ]
    }
   ],
   "source": [
    "! /data/docker_qiime2_share_D/bionformatics-tools/kalign/base_3.3.2/bin/kalign -h"
   ]
  },
  {
   "cell_type": "markdown",
   "id": "ad5b1ff9",
   "metadata": {},
   "source": [
    "```Shell\n",
    "time parallel -j 36 /data/docker_qiime2_share_D/bionformatics-tools/kalign/base_3.3.2/bin/kalign \\\n",
    "-i /data/docker_qiime2_share_G/jingjie/H_influenzae/core_genome/orthoslc/S10_write_fasta/strict_core/{} \\\n",
    "-o /data/docker_qiime2_share_G/jingjie/H_influenzae/core_genome/kalign/{} \\\n",
    "::: `ls /data/docker_qiime2_share_G/jingjie/H_influenzae/core_genome/orthoslc/S10_write_fasta/strict_core` > /data/docker_qiime2_share_G/jingjie/H_influenzae/core_genome/kaligned_log.txt 2>&1\n",
    "\n",
    "```"
   ]
  },
  {
   "cell_type": "markdown",
   "id": "75febf33",
   "metadata": {},
   "source": [
    "# core genome construction"
   ]
  },
  {
   "cell_type": "code",
   "execution_count": 20,
   "id": "c0e13a99",
   "metadata": {},
   "outputs": [],
   "source": [
    "with open('/data/docker_qiime2_share_G/jingjie/H_influenzae/core_genome/orthoslc/Step1_op.txt', 'r') as f_read:\n",
    "    rls = f_read.readlines()\n",
    "    \n",
    "f_read.close()"
   ]
  },
  {
   "cell_type": "code",
   "execution_count": 21,
   "id": "e44e69e3",
   "metadata": {},
   "outputs": [],
   "source": [
    "d = {}\n",
    "for x in rls:\n",
    "    l = x.split('\\t')\n",
    "    d[l[0]] = l[1]"
   ]
  },
  {
   "cell_type": "code",
   "execution_count": 22,
   "id": "3578181b",
   "metadata": {},
   "outputs": [],
   "source": [
    "from Bio.SeqRecord import SeqRecord\n",
    "from Bio import SeqIO\n",
    "from Bio.Seq import Seq\n",
    "\n",
    "from multiprocessing import Process, Manager\n",
    "import time\n",
    "import os\n",
    "\n",
    "import numpy as np"
   ]
  },
  {
   "cell_type": "markdown",
   "id": "e606c393",
   "metadata": {},
   "source": [
    "d"
   ]
  },
  {
   "cell_type": "markdown",
   "id": "aaeb2ad6",
   "metadata": {},
   "source": [
    "Seq('ATC') + Seq('AAA')"
   ]
  },
  {
   "cell_type": "code",
   "execution_count": 23,
   "id": "0d1e13d6",
   "metadata": {},
   "outputs": [],
   "source": [
    "def concat(seq_rec_lst, shared_dict_, trans_d):\n",
    "    for a_rec in seq_rec_lst:\n",
    "        the_seq = str(shared_dict_[trans_d[a_rec.id[0: 5]]].seq)\n",
    "        \n",
    "        the_seq = the_seq + str(a_rec.seq)\n",
    "        \n",
    "        shared_dict_[trans_d[a_rec.id[0: 5]]] = SeqRecord(id = trans_d[a_rec.id[0: 5]], \n",
    "                                                             name = trans_d[a_rec.id[0: 5]],\n",
    "                                                             description = \"\",\n",
    "                                                             dbxrefs=[],\n",
    "                                                             seq = Seq(the_seq)\n",
    "                                                            )\n",
    "#         print(shared_dict_[trans_d[a_rec.id[0: 5]]].seq)\n",
    "\n",
    "def mission_spliter(a_lst, proc_num):\n",
    "    n = len(a_lst)\n",
    "    m = n // proc_num\n",
    "    r = n % proc_num\n",
    "    sublists = []\n",
    "    start = 0\n",
    "    for i in range(proc_num):\n",
    "        end = start + m\n",
    "        if i < r:\n",
    "            end += 1\n",
    "        sublists.append(a_lst[start:end])\n",
    "        start = end\n",
    "    return sublists"
   ]
  },
  {
   "cell_type": "code",
   "execution_count": 24,
   "id": "2873dcdf",
   "metadata": {},
   "outputs": [
    {
     "data": {
      "text/plain": [
       "'/data/docker_qiime2_share_G/jingjie/H_influenzae/core_genome'"
      ]
     },
     "execution_count": 24,
     "metadata": {},
     "output_type": "execute_result"
    }
   ],
   "source": [
    "os.getcwd()"
   ]
  },
  {
   "cell_type": "markdown",
   "id": "29af7fb8",
   "metadata": {},
   "source": [
    "for x in ms:\n",
    "    print(x.id[0: 5])"
   ]
  },
  {
   "cell_type": "code",
   "execution_count": 26,
   "id": "25d2a9b8",
   "metadata": {},
   "outputs": [
    {
     "name": "stdout",
     "output_type": "stream",
     "text": [
      "Sat Jan 28 10:11:49 2023\n",
      "Sat Jan 28 10:12:39 2023\n"
     ]
    }
   ],
   "source": [
    "print(time.asctime())\n",
    "\n",
    "proc_num = 36\n",
    "\n",
    "if __name__ == \"__main__\":\n",
    "    ini_seq = SeqIO.to_dict(SeqIO.parse(\"kalign/10052-11151.fasta\", \n",
    "                                    \"fasta\")\n",
    "                       )\n",
    "    \n",
    "    manager = Manager()\n",
    "    shared_dict = manager.dict()\n",
    "    \n",
    "    for x in ini_seq.keys():\n",
    "        shared_dict[d[x[0: 5]]] = SeqRecord(id = d[x[0: 5]], \n",
    "                                         name = d[x[0: 5]],\n",
    "                                         description = \"\",\n",
    "                                         dbxrefs=[],\n",
    "                                         seq = Seq(\"\")\n",
    "                                        )\n",
    "    \n",
    "    \n",
    "    for cls in os.listdir('kalign/'):\n",
    "        a_cls = SeqIO.to_dict(SeqIO.parse('kalign/' + cls, \n",
    "                                    \"fasta\")\n",
    "                       )\n",
    "        \n",
    "        m_lst = list(a_cls.values())\n",
    "        \n",
    "        splitted_m_lst = mission_spliter(m_lst, proc_num)\n",
    "        \n",
    "        jobs = []\n",
    "\n",
    "        for ms in splitted_m_lst:\n",
    "            p = Process(target = concat,\n",
    "                       args = (list(ms), shared_dict, d)\n",
    "                       )\n",
    "          \n",
    "            jobs.append(p)\n",
    "\n",
    "            p.start()\n",
    "\n",
    "    #     p.join()\n",
    "\n",
    "        for z in jobs:\n",
    "            z.join()\n",
    "            \n",
    "    to_save = list(shared_dict.values())\n",
    "    \n",
    "    with open(\"core_genome.fasta\", \"w\") as output_handle:\n",
    "        SeqIO.write(to_save, output_handle, \"fasta\")\n",
    "        \n",
    "    \n",
    "print(time.asctime())"
   ]
  },
  {
   "cell_type": "markdown",
   "id": "66f6ceb4",
   "metadata": {},
   "source": [
    "# to phy"
   ]
  },
  {
   "cell_type": "code",
   "execution_count": null,
   "id": "63193996",
   "metadata": {},
   "outputs": [],
   "source": [
    "y_fasta = SeqIO.to_dict(SeqIO.parse(\"core_genome.fasta\", \n",
    "                                    \"fasta\")\n",
    "                       )\n",
    "\n",
    "to_phy = list(y_fasta.values())\n",
    "\n",
    "with open(\"core_genome_H_I_1281.phy\", \"w\") as output_handle:\n",
    "        SeqIO.write(to_phy, output_handle,'phylip-relaxed')"
   ]
  },
  {
   "cell_type": "markdown",
   "id": "8629a52c",
   "metadata": {},
   "source": [
    "```Shell\n",
    "\n",
    "cd /data/docker_qiime2_share_G/jingjie/H_influenzae/core_genome/raxml\n",
    "\n",
    "raxmlHPC-PTHREADS-SSE3 \\\n",
    "-m GTRCAT -f a -p 1000 -# 1000 -x 1000 -s /data/docker_qiime2_share_G/jingjie/H_influenzae/core_genome/core_genome_H_I_1281.phy -n core_genome_H_I_1281 -T 33 > /data/docker_qiime2_share_G/jingjie/H_influenzae/core_genome/raxml/RAxML_logg.txt 2&>1\n",
    "\n",
    "```"
   ]
  }
 ],
 "metadata": {
  "kernelspec": {
   "display_name": "Python 3 (ipykernel)",
   "language": "python",
   "name": "python3"
  },
  "language_info": {
   "codemirror_mode": {
    "name": "ipython",
    "version": 3
   },
   "file_extension": ".py",
   "mimetype": "text/x-python",
   "name": "python",
   "nbconvert_exporter": "python",
   "pygments_lexer": "ipython3",
   "version": "3.8.12"
  },
  "toc": {
   "base_numbering": 1,
   "nav_menu": {},
   "number_sections": true,
   "sideBar": true,
   "skip_h1_title": false,
   "title_cell": "Table of Contents",
   "title_sidebar": "Contents",
   "toc_cell": false,
   "toc_position": {},
   "toc_section_display": true,
   "toc_window_display": false
  }
 },
 "nbformat": 4,
 "nbformat_minor": 5
}
