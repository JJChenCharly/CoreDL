{
 "cells": [
  {
   "cell_type": "code",
   "execution_count": 2,
   "id": "5179bfed",
   "metadata": {},
   "outputs": [],
   "source": [
    "import os\n",
    "import time\n",
    "import pandas as pd\n",
    "import numpy as np\n",
    "from random import sample\n",
    "\n",
    "import torch\n",
    "import torch.nn as nn\n",
    "import torch.nn.functional as F\n",
    "\n",
    "from Bio import SeqIO\n",
    "from multiprocessing import Process\n",
    "\n",
    "import matplotlib.pyplot as plt"
   ]
  },
  {
   "cell_type": "code",
   "execution_count": 3,
   "id": "f194560e",
   "metadata": {},
   "outputs": [],
   "source": [
    "conv_d = {'A': [0],\n",
    "          'T': [1],\n",
    "          'C': [2],\n",
    "          'G': [3],\n",
    "          'Y': [1, 2], # T, C\n",
    "          'R': [0, 3], # A, G\n",
    "          'S': [2, 3], # C, G\n",
    "          'W': [0, 1], # A, T\n",
    "          'K': [1, 3], # G, T\n",
    "          'M': [0, 2], # A, C\n",
    "          'B': [1, 2, 3], # T, C, G\n",
    "          'D': [0, 1, 3], # A, T, G\n",
    "          'H': [0, 1, 2], # A, T, C\n",
    "          'V': [0, 2, 3], # A, C, G\n",
    "          'N': [0, 1, 2, 3]\n",
    "#           '-': None\n",
    "         }"
   ]
  },
  {
   "cell_type": "markdown",
   "id": "60f77562",
   "metadata": {},
   "source": [
    "# input core genome matirix making"
   ]
  },
  {
   "cell_type": "code",
   "execution_count": 4,
   "id": "b82c88ef",
   "metadata": {},
   "outputs": [],
   "source": [
    "core_genome_fasta = SeqIO.to_dict(SeqIO.parse('the_core_genome_1127_full.fasta',\n",
    "                                              'fasta'\n",
    "                                             )\n",
    "                             )"
   ]
  },
  {
   "cell_type": "code",
   "execution_count": 5,
   "id": "b785d83e",
   "metadata": {},
   "outputs": [],
   "source": [
    "np_path = 'np/'\n",
    "\n",
    "def DNA_to_np(core_genomes, in_lst, convert_dict):\n",
    "    check_lst = list(convert_dict.keys())\n",
    "    \n",
    "    for f in in_lst:\n",
    "        s_seq = str(core_genomes[f].seq) \n",
    "        \n",
    "        b_seq = np.zeros([4, len(s_seq)], \n",
    "                     dtype = 'int'\n",
    "                    )\n",
    "        # vlauing\n",
    "        for x in range(len(s_seq)):\n",
    "            if s_seq[x] not in check_lst:\n",
    "                continue\n",
    "            else:\n",
    "                length = len(convert_dict[s_seq[x]])\n",
    "                \n",
    "                for y in convert_dict[s_seq[x]]:\n",
    "                    b_seq[convert_dict[s_seq[x]], x] = 1/length\n",
    "\n",
    "        with open(np_path\n",
    "                  + f \n",
    "                  + '.npy',\n",
    "                  'wb') as f:\n",
    "            np.save(f, b_seq)"
   ]
  },
  {
   "cell_type": "code",
   "execution_count": 6,
   "id": "3821e3d1",
   "metadata": {},
   "outputs": [
    {
     "name": "stdout",
     "output_type": "stream",
     "text": [
      "Sun Jan 29 13:16:10 2023\n",
      "final time usage 198.07088661193848\n",
      "Sun Jan 29 13:19:28 2023\n"
     ]
    }
   ],
   "source": [
    "start_time_external = time.time()\n",
    "print(time.asctime())\n",
    "\n",
    "if __name__ == '__main__':\n",
    "    procc_num = 16\n",
    "    \n",
    "    mission_lst = np.array_split(list(core_genome_fasta.keys()), \n",
    "                                 procc_num\n",
    "                                )\n",
    "    \n",
    "    jobs = []\n",
    "    \n",
    "    for x in range(0, procc_num):\n",
    "        p = Process(target = DNA_to_np,\n",
    "                    args = (core_genome_fasta, \n",
    "                            mission_lst[x], \n",
    "                            conv_d\n",
    "                           )\n",
    "                   )\n",
    "        p.start()\n",
    "        jobs.append(p)\n",
    "        \n",
    "    \n",
    "    for z in jobs:\n",
    "        z.join()\n",
    "        \n",
    "end_time_external = time.time()\n",
    "print(\"final time usage \" + str(end_time_external - start_time_external))\n",
    "print(time.asctime())"
   ]
  },
  {
   "cell_type": "markdown",
   "id": "ad539efa",
   "metadata": {},
   "source": [
    "# input core genome matirix making ---- genome before alignment"
   ]
  },
  {
   "cell_type": "code",
   "execution_count": 12,
   "id": "26e1160b",
   "metadata": {},
   "outputs": [],
   "source": [
    "core_genome_fasta = SeqIO.to_dict(SeqIO.parse('/data/docker_qiime2_share_G/Hejunwei/core_genome_study/'\n",
    "                                              + 'CNN/the_core_genome_1127_no_align.fasta',\n",
    "                                              'fasta'\n",
    "                                             )\n",
    "                             )"
   ]
  },
  {
   "cell_type": "code",
   "execution_count": 13,
   "id": "a5403634",
   "metadata": {},
   "outputs": [],
   "source": [
    "largest_finder = []\n",
    "\n",
    "for x in core_genome_fasta.keys():\n",
    "    largest_finder.append(len(core_genome_fasta[x].seq))"
   ]
  },
  {
   "cell_type": "code",
   "execution_count": 14,
   "id": "646a68a3",
   "metadata": {},
   "outputs": [
    {
     "data": {
      "text/plain": [
       "721826"
      ]
     },
     "execution_count": 14,
     "metadata": {},
     "output_type": "execute_result"
    }
   ],
   "source": [
    "max(largest_finder)"
   ]
  },
  {
   "cell_type": "code",
   "execution_count": 18,
   "id": "ccdf968f",
   "metadata": {},
   "outputs": [],
   "source": [
    "np_path = '/data/docker_qiime2_share_G/Hejunwei/core_genome_study/CNN/np/'\n",
    "\n",
    "def DNA_to_np(core_genomes, in_lst, convert_dict):\n",
    "    check_lst = list(convert_dict.keys())\n",
    "    \n",
    "    for f in in_lst:\n",
    "        s_seq = str(core_genomes[f].seq) \n",
    "        \n",
    "        b_seq = np.zeros([4, len(s_seq)], \n",
    "                         dtype = 'int'\n",
    "                        )\n",
    "        \n",
    "        pad_num = 721826 - len(s_seq)\n",
    "        \n",
    "        pad_front = pad_num // 2\n",
    "\n",
    "        pad_end = pad_num - pad_front\n",
    "        \n",
    "        # vlauing\n",
    "        for x in range(len(s_seq)):\n",
    "            if s_seq[x] not in check_lst:\n",
    "                continue\n",
    "            else:\n",
    "                length = len(convert_dict[s_seq[x]])\n",
    "                \n",
    "                for y in convert_dict[s_seq[x]]:\n",
    "                    b_seq[convert_dict[s_seq[x]], x] = 1/length\n",
    "        \n",
    "        b_seq_tosave = np.c_[np.zeros([4, pad_front], dtype = 'int'), \n",
    "                             b_seq,\n",
    "                             np.zeros([4, pad_end], dtype = 'int')\n",
    "                            ]\n",
    "\n",
    "        with open(np_path\n",
    "                  + f \n",
    "                  + '.npy',\n",
    "                  'wb') as f:\n",
    "            np.save(f, b_seq_tosave)"
   ]
  },
  {
   "cell_type": "code",
   "execution_count": 19,
   "id": "4b451771",
   "metadata": {},
   "outputs": [
    {
     "name": "stdout",
     "output_type": "stream",
     "text": [
      "Mon Nov 14 11:45:01 2022\n",
      "final time usage 90.3128764629364\n",
      "Mon Nov 14 11:46:31 2022\n"
     ]
    }
   ],
   "source": [
    "start_time_external = time.time()\n",
    "print(time.asctime())\n",
    "\n",
    "if __name__ == '__main__':\n",
    "    procc_num = 36\n",
    "    \n",
    "    mission_lst = np.array_split(list(core_genome_fasta.keys()), \n",
    "                                 procc_num\n",
    "                                )\n",
    "    \n",
    "    jobs = []\n",
    "    \n",
    "    for x in range(0, procc_num):\n",
    "        p = Process(target = DNA_to_np,\n",
    "                    args = (core_genome_fasta, \n",
    "                            mission_lst[x], \n",
    "                            conv_d\n",
    "                           )\n",
    "                   )\n",
    "        p.start()\n",
    "        jobs.append(p)\n",
    "        \n",
    "    \n",
    "    for z in jobs:\n",
    "        z.join()\n",
    "        \n",
    "end_time_external = time.time()\n",
    "print(\"final time usage \" + str(end_time_external - start_time_external))\n",
    "print(time.asctime())"
   ]
  },
  {
   "cell_type": "markdown",
   "id": "c1f07f64",
   "metadata": {},
   "source": [
    "# KO"
   ]
  },
  {
   "cell_type": "code",
   "execution_count": 36,
   "id": "3586fdcb",
   "metadata": {},
   "outputs": [],
   "source": [
    "core_genome_fasta = SeqIO.to_dict(SeqIO.parse('/data/docker_qiime2_share_G/Hejunwei/core_genome_study/'\n",
    "                                              + 'CNN/the_core_genome_1127_KO.fasta',\n",
    "                                              'fasta'\n",
    "                                             )\n",
    "                             )"
   ]
  },
  {
   "cell_type": "code",
   "execution_count": 37,
   "id": "c2d63c34",
   "metadata": {},
   "outputs": [],
   "source": [
    "np_path = '/data/docker_qiime2_share_G/Hejunwei/core_genome_study/CNN/np_KO/'\n",
    "\n",
    "def DNA_to_np(core_genomes, in_lst, convert_dict):\n",
    "    check_lst = list(convert_dict.keys())\n",
    "    \n",
    "    for f in in_lst:\n",
    "        s_seq = str(core_genomes[f].seq) \n",
    "        \n",
    "        b_seq = np.zeros([4, len(s_seq)], \n",
    "                         dtype = 'int'\n",
    "                        )\n",
    "        \n",
    "        # vlauing\n",
    "        for x in range(len(s_seq)):\n",
    "            if s_seq[x] not in check_lst:\n",
    "                continue\n",
    "            else:\n",
    "                length = len(convert_dict[s_seq[x]])\n",
    "                \n",
    "                for y in convert_dict[s_seq[x]]:\n",
    "                    b_seq[convert_dict[s_seq[x]], x] = 1/length\n",
    "\n",
    "        with open(np_path\n",
    "                  + f \n",
    "                  + '.npy',\n",
    "                  'wb') as f:\n",
    "            np.save(f, b_seq)"
   ]
  },
  {
   "cell_type": "code",
   "execution_count": 38,
   "id": "ef034a9e",
   "metadata": {},
   "outputs": [
    {
     "name": "stdout",
     "output_type": "stream",
     "text": [
      "Thu Nov 17 04:40:08 2022\n",
      "final time usage 41.139267444610596\n",
      "Thu Nov 17 04:40:49 2022\n"
     ]
    }
   ],
   "source": [
    "start_time_external = time.time()\n",
    "print(time.asctime())\n",
    "\n",
    "if __name__ == '__main__':\n",
    "    procc_num = 36\n",
    "    \n",
    "    mission_lst = np.array_split(list(core_genome_fasta.keys()), \n",
    "                                 procc_num\n",
    "                                )\n",
    "    \n",
    "    jobs = []\n",
    "    \n",
    "    for x in range(0, procc_num):\n",
    "        p = Process(target = DNA_to_np,\n",
    "                    args = (core_genome_fasta, \n",
    "                            mission_lst[x], \n",
    "                            conv_d\n",
    "                           )\n",
    "                   )\n",
    "        p.start()\n",
    "        jobs.append(p)\n",
    "        \n",
    "    \n",
    "    for z in jobs:\n",
    "        z.join()\n",
    "        \n",
    "end_time_external = time.time()\n",
    "print(\"final time usage \" + str(end_time_external - start_time_external))\n",
    "print(time.asctime())"
   ]
  },
  {
   "cell_type": "code",
   "execution_count": null,
   "id": "1d2b6ab5",
   "metadata": {},
   "outputs": [],
   "source": []
  }
 ],
 "metadata": {
  "kernelspec": {
   "display_name": "Python 3 (ipykernel)",
   "language": "python",
   "name": "python3"
  },
  "language_info": {
   "codemirror_mode": {
    "name": "ipython",
    "version": 3
   },
   "file_extension": ".py",
   "mimetype": "text/x-python",
   "name": "python",
   "nbconvert_exporter": "python",
   "pygments_lexer": "ipython3",
   "version": "3.7.13"
  },
  "toc": {
   "base_numbering": 1,
   "nav_menu": {},
   "number_sections": true,
   "sideBar": true,
   "skip_h1_title": false,
   "title_cell": "Table of Contents",
   "title_sidebar": "Contents",
   "toc_cell": false,
   "toc_position": {},
   "toc_section_display": true,
   "toc_window_display": true
  }
 },
 "nbformat": 4,
 "nbformat_minor": 5
}
