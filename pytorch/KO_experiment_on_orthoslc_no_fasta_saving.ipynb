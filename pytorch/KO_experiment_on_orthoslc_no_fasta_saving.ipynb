{
 "cells": [
  {
   "cell_type": "code",
   "execution_count": 1,
   "id": "61d78ced",
   "metadata": {},
   "outputs": [],
   "source": [
    "import pandas as pd\n",
    "import numpy as np\n",
    "import time\n",
    "import os\n",
    "import json\n",
    "from multiprocessing import Process, Manager, Value, Array, managers\n",
    "from numpy import genfromtxt\n",
    "from Bio import SeqIO\n",
    "from Bio.SeqRecord import SeqRecord\n",
    "from Bio.Seq import Seq\n",
    "from multiprocessing import Pool\n",
    "import collections\n",
    "import itertools\n",
    "from itertools import combinations\n",
    "# from more_itertools import unique_everseen\n",
    "from Bio.Seq import Seq\n",
    "# from Bio import pairwise2\n",
    "\n",
    "import os\n",
    "import time\n",
    "import pandas as pd\n",
    "import numpy as np\n",
    "from random import sample\n",
    "\n",
    "import torch\n",
    "import torch.nn as nn\n",
    "import torch.nn.functional as F\n",
    "\n",
    "from Bio import SeqIO\n",
    "from multiprocessing import Process\n",
    "\n",
    "import matplotlib.pyplot as plt"
   ]
  },
  {
   "cell_type": "markdown",
   "id": "9403677c",
   "metadata": {},
   "source": [
    "# Calculation"
   ]
  },
  {
   "cell_type": "markdown",
   "id": "b415c01e",
   "metadata": {},
   "source": [
    "kaligned_path = 'E_coli_orthoslc/kalign/'\n",
    "\n",
    "def get_distance(str1, str2):\n",
    "    d = 0\n",
    "    l = len(str1)\n",
    "    \n",
    "    for c in range(l):\n",
    "        if str1[c] != str2[c]:\n",
    "            d = d + 1\n",
    "    d = d\n",
    "    \n",
    "    return d\n",
    "\n",
    "def get_contribution(in_fasta_path, rt_dict):\n",
    "    in_fasta = SeqIO.to_dict(SeqIO.parse(kaligned_path + in_fasta_path,\n",
    "                                         'fasta')\n",
    "                            )\n",
    "    \n",
    "    rep_d = {}\n",
    "    \n",
    "    for keys in in_fasta.keys():\n",
    "        \n",
    "        seq = str(in_fasta[keys].seq)\n",
    "        \n",
    "        if seq in rep_d.keys():\n",
    "            rep_d[seq].append(keys)\n",
    "        else:\n",
    "            rep_d[seq] = [keys]\n",
    "            \n",
    "    key_lst = list(rep_d.keys())\n",
    "    \n",
    "    list_seqs = combinations(key_lst, 2)\n",
    "    \n",
    "    S_contribution = 0\n",
    "    \n",
    "    for pair in list_seqs:\n",
    "#         a = len(pair[0])\n",
    "#         b = len(pair[1])\n",
    "#         if a < b:\n",
    "#             bi_zhi = a/b\n",
    "#         else:\n",
    "#             bi_zhi = b/a\n",
    "    \n",
    "        a = len(rep_d[pair[0]]) # number of identical seqs of this representation in that cluster\n",
    "        b = len(rep_d[pair[1]])\n",
    "        \n",
    "#         S_contribution = bi_zhi*get_distance(pair[0], pair[1])*(a + b)**1/len(in_fasta.keys()\n",
    "#                                                                                        )\n",
    "#                                                                                  )\n",
    "        S_contribution = S_contribution + get_distance(pair[0], pair[1])*(a + b)\n",
    "    \n",
    "    rt_dict[in_fasta_path.replace('.fasta', '')] = [S_contribution, len(rep_d.keys()), len(pair[0])]\n",
    "    \n",
    "def divide_chunks(l, n):\n",
    "\n",
    "    # looping till length l\n",
    "    for i in range(0, len(l), n):\n",
    "        yield l[i:i + n] "
   ]
  },
  {
   "cell_type": "markdown",
   "id": "8b1de8aa",
   "metadata": {},
   "source": [
    "start_time_external = time.time()\n",
    "print(time.asctime())\n",
    "\n",
    "if __name__ == '__main__':\n",
    "    procc_num = 16\n",
    "    \n",
    "    mission_lst = list(divide_chunks(os.listdir(kaligned_path),\n",
    "                                     procc_num\n",
    "                                    )\n",
    "                      )\n",
    "    \n",
    "    manager = Manager()\n",
    "    return_dict = manager.dict()\n",
    "    \n",
    "    for submissions in mission_lst:\n",
    "    \n",
    "        jobs = []\n",
    "\n",
    "        for x in range(0, len(submissions)):\n",
    "            p = Process(target = get_contribution,\n",
    "                        args = (submissions[x], \n",
    "                                return_dict\n",
    "                               )\n",
    "                       )\n",
    "            p.start()\n",
    "            jobs.append(p)\n",
    "\n",
    "\n",
    "        for z in jobs:\n",
    "            z.join()\n",
    "        \n",
    "end_time_external = time.time()\n",
    "print(\"final time usage \" + str(end_time_external - start_time_external))\n",
    "print(time.asctime())"
   ]
  },
  {
   "cell_type": "markdown",
   "id": "b3a6bca8",
   "metadata": {},
   "source": [
    "df = pd.DataFrame.from_dict(return_dict, orient='index')\n",
    "df = df.sort_values(by = [0], ascending = False)\n",
    "df"
   ]
  },
  {
   "cell_type": "markdown",
   "id": "3539b448",
   "metadata": {},
   "source": [
    "df.to_csv('E_coli_orthoslc/cluster_contribution.csv',\n",
    "          header = False)"
   ]
  },
  {
   "cell_type": "markdown",
   "id": "45a81936",
   "metadata": {},
   "source": [
    "# KO"
   ]
  },
  {
   "cell_type": "code",
   "execution_count": 2,
   "id": "ffad5245",
   "metadata": {},
   "outputs": [],
   "source": [
    "df = pd.read_csv('E_coli_orthoslc/cluster_contribution.csv', \n",
    "                 header = None)\n",
    "\n",
    "# with open('/data/docker_qiime2_share_container_D/to_github/pt/CoreDL/pt/strains_id.json', 'r') as f_read:\n",
    "#     read = json.load(f_read)\n",
    "# print(len(read))\n",
    "\n",
    "with open('E_coli_orthoslc/Step1_pre_res.txt', 'r') as f_read:\n",
    "    rls = f_read.readlines()\n",
    "    \n",
    "    \n",
    "d = {}\n",
    "for x in rls:\n",
    "    l_ = x.rstrip('\\n').split('\\t')\n",
    "    d[l_[0]] = l_[1]\n",
    "    \n",
    "f_read.close()\n",
    "    \n",
    "# inv_map = {str(v): k for k, v in d.items()}\n",
    "inv_map = d"
   ]
  },
  {
   "cell_type": "code",
   "execution_count": 3,
   "id": "0bf0f4b0",
   "metadata": {},
   "outputs": [
    {
     "data": {
      "text/html": [
       "<div>\n",
       "<style scoped>\n",
       "    .dataframe tbody tr th:only-of-type {\n",
       "        vertical-align: middle;\n",
       "    }\n",
       "\n",
       "    .dataframe tbody tr th {\n",
       "        vertical-align: top;\n",
       "    }\n",
       "\n",
       "    .dataframe thead th {\n",
       "        text-align: right;\n",
       "    }\n",
       "</style>\n",
       "<table border=\"1\" class=\"dataframe\">\n",
       "  <thead>\n",
       "    <tr style=\"text-align: right;\">\n",
       "      <th></th>\n",
       "      <th>0</th>\n",
       "      <th>1</th>\n",
       "      <th>2</th>\n",
       "      <th>3</th>\n",
       "    </tr>\n",
       "  </thead>\n",
       "  <tbody>\n",
       "    <tr>\n",
       "      <th>0</th>\n",
       "      <td>11002-12335</td>\n",
       "      <td>75319401</td>\n",
       "      <td>328</td>\n",
       "      <td>4358</td>\n",
       "    </tr>\n",
       "    <tr>\n",
       "      <th>1</th>\n",
       "      <td>10761-11925</td>\n",
       "      <td>27280561</td>\n",
       "      <td>238</td>\n",
       "      <td>2853</td>\n",
       "    </tr>\n",
       "    <tr>\n",
       "      <th>2</th>\n",
       "      <td>10416-10370</td>\n",
       "      <td>20438341</td>\n",
       "      <td>222</td>\n",
       "      <td>2818</td>\n",
       "    </tr>\n",
       "    <tr>\n",
       "      <th>3</th>\n",
       "      <td>10725-12709</td>\n",
       "      <td>19374959</td>\n",
       "      <td>202</td>\n",
       "      <td>2044</td>\n",
       "    </tr>\n",
       "    <tr>\n",
       "      <th>4</th>\n",
       "      <td>10938-12546</td>\n",
       "      <td>19092397</td>\n",
       "      <td>282</td>\n",
       "      <td>2769</td>\n",
       "    </tr>\n",
       "  </tbody>\n",
       "</table>\n",
       "</div>"
      ],
      "text/plain": [
       "             0         1    2     3\n",
       "0  11002-12335  75319401  328  4358\n",
       "1  10761-11925  27280561  238  2853\n",
       "2  10416-10370  20438341  222  2818\n",
       "3  10725-12709  19374959  202  2044\n",
       "4  10938-12546  19092397  282  2769"
      ]
     },
     "execution_count": 3,
     "metadata": {},
     "output_type": "execute_result"
    }
   ],
   "source": [
    "df.iloc[0: 5, ]"
   ]
  },
  {
   "cell_type": "code",
   "execution_count": 4,
   "id": "a733f9d6",
   "metadata": {},
   "outputs": [],
   "source": [
    "a = list(df[0])\n",
    "\n",
    "# for x in a[715: ]:\n",
    "for x in a[650: ]:\n",
    "    a.remove(x)"
   ]
  },
  {
   "cell_type": "code",
   "execution_count": 5,
   "id": "52b74c28",
   "metadata": {},
   "outputs": [
    {
     "data": {
      "text/plain": [
       "650"
      ]
     },
     "execution_count": 5,
     "metadata": {},
     "output_type": "execute_result"
    }
   ],
   "source": [
    "len(a)"
   ]
  },
  {
   "cell_type": "code",
   "execution_count": 6,
   "id": "51cb95ae",
   "metadata": {},
   "outputs": [
    {
     "data": {
      "text/plain": [
       "650"
      ]
     },
     "execution_count": 6,
     "metadata": {},
     "output_type": "execute_result"
    }
   ],
   "source": [
    "to_skip = a\n",
    "len(to_skip)"
   ]
  },
  {
   "cell_type": "code",
   "execution_count": 7,
   "id": "9c655f95",
   "metadata": {},
   "outputs": [
    {
     "name": "stdout",
     "output_type": "stream",
     "text": [
      "Fri Feb 10 12:35:35 2023\n",
      "Fri Feb 10 12:36:34 2023\n"
     ]
    }
   ],
   "source": [
    "print(time.asctime())\n",
    "kaligned_path = '/data/docker_qiime2_share_container_D/to_github/pt/CoreDL/pt/E_coli_orthoslc/kalign/'\n",
    "# final_core_genome_path = \"/data/docker_qiime2_share_container_D/to_github/pt/CoreDL/pt/E_coli_orthoslc/the_core_genome_1127.fasta\"\n",
    "\n",
    "# to_write = []\n",
    "\n",
    "\n",
    "\n",
    "seq_coll = {}\n",
    "\n",
    "ini_seq = SeqIO.to_dict(SeqIO.parse(kaligned_path + \"10004-14472.fasta\", \n",
    "                                    \"fasta\")\n",
    "                       )\n",
    "for x in ini_seq:\n",
    "    seq_coll[inv_map[x[0: 5]]] = \"\"\n",
    "\n",
    "for x in os.listdir(kaligned_path):\n",
    "#     print(x)\n",
    "    x_fasta = SeqIO.to_dict(SeqIO.parse(kaligned_path + x, \n",
    "                                        \"fasta\")\n",
    "                           )\n",
    "    \n",
    "    if x.replace('.fasta', '') in to_skip:\n",
    "        for y in x_fasta:\n",
    "            seq_coll[inv_map[y[0: 5]\n",
    "                            ]\n",
    "                    ] = seq_coll[inv_map[y[0: 5]\n",
    "                                        ]\n",
    "                                ] + '-' * len(x_fasta[y].seq\n",
    "                                             )\n",
    "    else:\n",
    "        for y in x_fasta:\n",
    "            seq_coll[inv_map[y[0: 5]\n",
    "                            ]\n",
    "                    ] = seq_coll[inv_map[y[0: 5]\n",
    "                                        ]\n",
    "                                ] + str(x_fasta[y].seq)\n",
    "\n",
    "# for z in seq_coll:\n",
    "#     to_write.append(SeqRecord(id = z, \n",
    "#                               name = z,\n",
    "#                               description = \"\",\n",
    "#                               dbxrefs=[],\n",
    "#                               seq = Seq(seq_coll[z])\n",
    "#                              )\n",
    "#                    )\n",
    "# with open(final_core_genome_path, \"w\") as output_handle:\n",
    "#         SeqIO.write(to_write, output_handle, \"fasta\")\n",
    "        \n",
    "print(time.asctime())"
   ]
  },
  {
   "cell_type": "markdown",
   "id": "bcb04b19",
   "metadata": {},
   "source": [
    "## pt make"
   ]
  },
  {
   "cell_type": "code",
   "execution_count": 8,
   "id": "fdd31595",
   "metadata": {},
   "outputs": [],
   "source": [
    "conv_d = {'A': [1., 0., 0., 0.],\n",
    "          'T': [0., 1., 0., 0.],\n",
    "          'C': [0., 0., 1., 0.],\n",
    "          'G': [0., 0., 0., 1.],\n",
    "          'Y': [0., 0.5, 0.5, 0.], # T, C\n",
    "          'R': [0.5, 0., 0., 0.5], # A, G\n",
    "          'S': [0., 0., 0.5, 0.5], # C, G\n",
    "          'W': [0.5, 0.5, 0., 0.], # A, T\n",
    "          'K': [0., 0.5, 0., 0.5], # G, T\n",
    "          'M': [0.5, 0., 0.5, 0.], # A, C\n",
    "          'B': [0., 1/3, 1/3, 1/3], # T, C, G\n",
    "          'D': [1/3, 1/3, 0., 1/3], # A, T, G\n",
    "          'H': [1/3, 1/3, 1/3, 0.], # A, T, C\n",
    "          'V': [1/3, 0., 1/3, 1/3], # A, C, G\n",
    "          'N': [0.25, 0.25, 0.25, 0.25],\n",
    "          '-': [0., 0., 0., 0.]\n",
    "         }"
   ]
  },
  {
   "cell_type": "code",
   "execution_count": 9,
   "id": "9c6b9f55",
   "metadata": {},
   "outputs": [],
   "source": [
    "pt_path = '/data/docker_qiime2_share_container_D/to_github/pt/CoreDL/pt/np/'\n",
    "\n",
    "def one_hot_encoding(sequence, conv_d_):\n",
    "    \n",
    "    seq_tensor = [conv_d_[base] for base in sequence]\n",
    "    seq_tensor = torch.tensor(seq_tensor).t()\n",
    "    \n",
    "    return seq_tensor\n",
    "\n",
    "def DNA_to_pt(core_genomes, in_lst, convert_dict):\n",
    "    \n",
    "    for f in in_lst:\n",
    "#         s_seq = str(core_genomes[f].seq)\n",
    "        s_seq = str(core_genomes[f])\n",
    "        \n",
    "        b_seq = one_hot_encoding(s_seq, convert_dict)\n",
    "        \n",
    "        torch.save(b_seq, \n",
    "                   pt_path\n",
    "                   + f \n",
    "                   + '.pt')"
   ]
  },
  {
   "cell_type": "code",
   "execution_count": 10,
   "id": "d1d9ddb6",
   "metadata": {},
   "outputs": [
    {
     "name": "stdout",
     "output_type": "stream",
     "text": [
      "Fri Feb 10 12:36:34 2023\n",
      "final time usage 44.883763551712036\n",
      "Fri Feb 10 12:37:18 2023\n"
     ]
    }
   ],
   "source": [
    "start_time_external = time.time()\n",
    "print(time.asctime())\n",
    "\n",
    "if __name__ == '__main__':\n",
    "    procc_num = 8\n",
    "    \n",
    "    mission_lst = np.array_split(list(seq_coll.keys()), \n",
    "                                 procc_num\n",
    "                                )\n",
    "    \n",
    "    jobs = []\n",
    "    \n",
    "    for x in range(0, procc_num):\n",
    "        p = Process(target = DNA_to_pt,\n",
    "                    args = (seq_coll, \n",
    "                            mission_lst[x], \n",
    "                            conv_d\n",
    "                           )\n",
    "                   )\n",
    "        p.start()\n",
    "        jobs.append(p)\n",
    "        \n",
    "    \n",
    "    for z in jobs:\n",
    "        z.join()\n",
    "        \n",
    "end_time_external = time.time()\n",
    "print(\"final time usage \" + str(end_time_external - start_time_external))\n",
    "print(time.asctime())"
   ]
  }
 ],
 "metadata": {
  "kernelspec": {
   "display_name": "Python 3 (ipykernel)",
   "language": "python",
   "name": "python3"
  },
  "language_info": {
   "codemirror_mode": {
    "name": "ipython",
    "version": 3
   },
   "file_extension": ".py",
   "mimetype": "text/x-python",
   "name": "python",
   "nbconvert_exporter": "python",
   "pygments_lexer": "ipython3",
   "version": "3.7.13"
  }
 },
 "nbformat": 4,
 "nbformat_minor": 5
}
